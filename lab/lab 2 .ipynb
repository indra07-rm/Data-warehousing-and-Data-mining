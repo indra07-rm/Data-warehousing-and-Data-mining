{
 "cells": [
  {
   "cell_type": "code",
   "execution_count": 9,
   "id": "3f448218-b7de-4ea6-bdc1-8e70fd32cb00",
   "metadata": {},
   "outputs": [
    {
     "name": "stdout",
     "output_type": "stream",
     "text": [
      "Requirement already satisfied: mlxtend in c:\\users\\acer nitro\\anaconda3\\lib\\site-packages (0.23.4)Note: you may need to restart the kernel to use updated packages.\n",
      "\n",
      "Requirement already satisfied: scipy>=1.2.1 in c:\\users\\acer nitro\\anaconda3\\lib\\site-packages (from mlxtend) (1.13.1)\n",
      "Requirement already satisfied: numpy>=1.16.2 in c:\\users\\acer nitro\\anaconda3\\lib\\site-packages (from mlxtend) (1.26.4)\n",
      "Requirement already satisfied: pandas>=0.24.2 in c:\\users\\acer nitro\\anaconda3\\lib\\site-packages (from mlxtend) (2.2.2)\n",
      "Requirement already satisfied: scikit-learn>=1.3.1 in c:\\users\\acer nitro\\anaconda3\\lib\\site-packages (from mlxtend) (1.5.1)\n",
      "Requirement already satisfied: matplotlib>=3.0.0 in c:\\users\\acer nitro\\anaconda3\\lib\\site-packages (from mlxtend) (3.9.2)\n",
      "Requirement already satisfied: joblib>=0.13.2 in c:\\users\\acer nitro\\anaconda3\\lib\\site-packages (from mlxtend) (1.4.2)\n",
      "Requirement already satisfied: contourpy>=1.0.1 in c:\\users\\acer nitro\\anaconda3\\lib\\site-packages (from matplotlib>=3.0.0->mlxtend) (1.2.0)\n",
      "Requirement already satisfied: cycler>=0.10 in c:\\users\\acer nitro\\anaconda3\\lib\\site-packages (from matplotlib>=3.0.0->mlxtend) (0.11.0)\n",
      "Requirement already satisfied: fonttools>=4.22.0 in c:\\users\\acer nitro\\anaconda3\\lib\\site-packages (from matplotlib>=3.0.0->mlxtend) (4.51.0)\n",
      "Requirement already satisfied: kiwisolver>=1.3.1 in c:\\users\\acer nitro\\anaconda3\\lib\\site-packages (from matplotlib>=3.0.0->mlxtend) (1.4.4)\n",
      "Requirement already satisfied: packaging>=20.0 in c:\\users\\acer nitro\\anaconda3\\lib\\site-packages (from matplotlib>=3.0.0->mlxtend) (24.1)\n",
      "Requirement already satisfied: pillow>=8 in c:\\users\\acer nitro\\anaconda3\\lib\\site-packages (from matplotlib>=3.0.0->mlxtend) (10.4.0)\n",
      "Requirement already satisfied: pyparsing>=2.3.1 in c:\\users\\acer nitro\\anaconda3\\lib\\site-packages (from matplotlib>=3.0.0->mlxtend) (3.1.2)\n",
      "Requirement already satisfied: python-dateutil>=2.7 in c:\\users\\acer nitro\\anaconda3\\lib\\site-packages (from matplotlib>=3.0.0->mlxtend) (2.9.0.post0)\n",
      "Requirement already satisfied: pytz>=2020.1 in c:\\users\\acer nitro\\anaconda3\\lib\\site-packages (from pandas>=0.24.2->mlxtend) (2024.1)\n",
      "Requirement already satisfied: tzdata>=2022.7 in c:\\users\\acer nitro\\anaconda3\\lib\\site-packages (from pandas>=0.24.2->mlxtend) (2023.3)\n",
      "Requirement already satisfied: threadpoolctl>=3.1.0 in c:\\users\\acer nitro\\anaconda3\\lib\\site-packages (from scikit-learn>=1.3.1->mlxtend) (3.5.0)\n",
      "Requirement already satisfied: six>=1.5 in c:\\users\\acer nitro\\anaconda3\\lib\\site-packages (from python-dateutil>=2.7->matplotlib>=3.0.0->mlxtend) (1.16.0)\n"
     ]
    }
   ],
   "source": [
    "%pip install mlxtend\n"
   ]
  },
  {
   "cell_type": "code",
   "execution_count": null,
   "id": "0e611aed-5824-4876-ba11-1e8fca169177",
   "metadata": {},
   "outputs": [],
   "source": []
  },
  {
   "cell_type": "code",
   "execution_count": 44,
   "id": "612bb433-66f9-4c0b-9d28-9c9c875c543a",
   "metadata": {},
   "outputs": [
    {
     "name": "stdout",
     "output_type": "stream",
     "text": [
      "Requirement already satisfied: PyMuPDF in c:\\users\\acer nitro\\anaconda3\\lib\\site-packages (1.26.1)\n",
      "Note: you may need to restart the kernel to use updated packages.\n"
     ]
    }
   ],
   "source": [
    "%pip install PyMuPDF"
   ]
  },
  {
   "cell_type": "code",
   "execution_count": 112,
   "id": "fc1226ce-73da-4f1c-89b5-a832f9d20e4d",
   "metadata": {},
   "outputs": [],
   "source": [
    "import fitz  \n",
    "def read_pdf(file_path):\n",
    "    doc = fitz.open(file_path)\n",
    "    text = \"\"\n",
    "    for page in doc:\n",
    "        text += page.get_text()\n",
    "    return text\n",
    "    \n",
    "sports_text = read_pdf(\"sports.pdf\")\n",
    "space_text = read_pdf(\"space.pdf\")"
   ]
  },
  {
   "cell_type": "code",
   "execution_count": 114,
   "id": "ce46bb32-6233-493c-a3e5-7bef79e30edb",
   "metadata": {},
   "outputs": [],
   "source": [
    "def parse(text):\n",
    "    lines = text.strip().split(\"\\n\")\n",
    "    transactions = []\n",
    "    for line in lines[1:]:  # skip header line\n",
    "        items = line.split(\",\")[1:]  # skip transaction ID\n",
    "        transactions.append([item.strip() for item in items])\n",
    "    return transactions\n",
    "sports_transactions = parse(sports_text)\n",
    "space_transactions = parse(space_text)"
   ]
  },
  {
   "cell_type": "code",
   "execution_count": 116,
   "id": "f89904e3-c2ee-43bd-b2ba-91fa708e911b",
   "metadata": {},
   "outputs": [],
   "source": [
    "\n",
    "import pandas as pd\n",
    "from mlxtend.preprocessing import TransactionEncoder\n",
    "\n",
    "def encode(transactions):\n",
    "    te = TransactionEncoder()\n",
    "    te_ary = te.fit(transactions).transform(transactions)\n",
    "    return pd.DataFrame(te_ary, columns=te.columns_)\n",
    "\n",
    "sports_df = encode(sports_transactions)\n",
    "space_df = encode(space_transactions)"
   ]
  },
  {
   "cell_type": "code",
   "execution_count": 118,
   "id": "1b926f67-c210-46fb-8062-466655968254",
   "metadata": {},
   "outputs": [
    {
     "name": "stdout",
     "output_type": "stream",
     "text": [
      "Sports - Frequent Itemsets:\n",
      "    support        itemsets\n",
      "0     0.36  (cricket ball)\n",
      "1     0.40   (cricket bat)\n",
      "2     0.44      (football)\n",
      "3     0.36        (gloves)\n",
      "4     0.26     (ice cream)\n",
      "5     0.42         (juice)\n",
      "6     0.28  (water bottle)\n",
      "\n",
      "Sports - Association Rules:\n",
      " Empty DataFrame\n",
      "Columns: [antecedents, consequents, support, confidence, lift]\n",
      "Index: []\n"
     ]
    }
   ],
   "source": [
    "from mlxtend.frequent_patterns import apriori, association_rules\n",
    "\n",
    "def apply_apriori(df, min_support=0.2):\n",
    "    freq_items = apriori(df, min_support=min_support, use_colnames=True)\n",
    "    rules = association_rules(freq_items, metric=\"confidence\", min_threshold=0.6)\n",
    "    return freq_items, rules\n",
    "\n",
    "sports_freq, sports_rules = apply_apriori(sports_df)\n",
    "space_freq, space_rules = apply_apriori(space_df)\n",
    "\n",
    "print(\"Sports - Frequent Itemsets:\\n\", sports_freq)\n",
    "print(\"\\nSports - Association Rules:\\n\", sports_rules[['antecedents','consequents','support','confidence','lift']])\n"
   ]
  },
  {
   "cell_type": "code",
   "execution_count": 120,
   "id": "b85369ce-4000-49ca-84a0-161cf6f99553",
   "metadata": {},
   "outputs": [
    {
     "name": "stdout",
     "output_type": "stream",
     "text": [
      "Sports - FP-Growth Frequent Itemsets:\n",
      "    support        itemsets\n",
      "0     0.44      (football)\n",
      "1     0.36        (gloves)\n",
      "2     0.36  (cricket ball)\n",
      "3     0.42         (juice)\n",
      "4     0.40   (cricket bat)\n",
      "5     0.28  (water bottle)\n",
      "6     0.26     (ice cream)\n",
      "\n",
      "Sports - FP-Growth Association Rules:\n",
      " Empty DataFrame\n",
      "Columns: [antecedents, consequents, support, confidence, lift]\n",
      "Index: []\n"
     ]
    }
   ],
   "source": [
    "from mlxtend.frequent_patterns import fpgrowth\n",
    "\n",
    "def apply_fpgrowth(df, min_support=0.2):\n",
    "    freq_items = fpgrowth(df, min_support=min_support, use_colnames=True)\n",
    "    rules = association_rules(freq_items, metric=\"confidence\", min_threshold=0.6)\n",
    "    return freq_items, rules\n",
    "\n",
    "sports_fp_freq, sports_fp_rules = apply_fpgrowth(sports_df)\n",
    "space_fp_freq, space_fp_rules = apply_fpgrowth(space_df)\n",
    "\n",
    "print(\"Sports - FP-Growth Frequent Itemsets:\\n\", sports_fp_freq)\n",
    "print(\"\\nSports - FP-Growth Association Rules:\\n\", sports_fp_rules[['antecedents','consequents','support','confidence','lift']])\n",
    "sports_freq, sports_rules = apply_apriori(sports_df, min_support=0.2)\n",
    "space_freq, space_rules = apply_apriori(space_df, min_support=0.2)\n",
    "\n",
    "sports_fp_freq, sports_fp_rules = apply_fpgrowth(sports_df, min_support=0.2)\n",
    "space_fp_freq, space_fp_rules = apply_fpgrowth(space_df, min_support=0.2)\n"
   ]
  },
  {
   "cell_type": "code",
   "execution_count": 122,
   "id": "e9b435dd-55a6-44b6-8695-6e63ce33a7dd",
   "metadata": {},
   "outputs": [
    {
     "name": "stdout",
     "output_type": "stream",
     "text": [
      "Sports - FP-Growth Frequent Itemsets:\n",
      "    support        itemsets\n",
      "0     0.44      (football)\n",
      "1     0.36        (gloves)\n",
      "2     0.36  (cricket ball)\n",
      "3     0.42         (juice)\n",
      "4     0.40   (cricket bat)\n",
      "5     0.28  (water bottle)\n",
      "6     0.26     (ice cream)\n",
      "\n",
      "Sports - FP-Growth Association Rules:\n",
      " Empty DataFrame\n",
      "Columns: [antecedents, consequents, support, confidence, lift]\n",
      "Index: []\n"
     ]
    }
   ],
   "source": [
    "from mlxtend.frequent_patterns import fpgrowth\n",
    "\n",
    "def apply_fpgrowth(df, min_support=0.2):\n",
    "    freq_items = fpgrowth(df, min_support=min_support, use_colnames=True)\n",
    "    rules = association_rules(freq_items, metric=\"confidence\", min_threshold=0.6)\n",
    "    return freq_items, rules\n",
    "\n",
    "sports_fp_freq, sports_fp_rules = apply_fpgrowth(sports_df)\n",
    "space_fp_freq, space_fp_rules = apply_fpgrowth(space_df)\n",
    "\n",
    "print(\"Sports - FP-Growth Frequent Itemsets:\\n\", sports_fp_freq)\n",
    "print(\"\\nSports - FP-Growth Association Rules:\\n\", sports_fp_rules[['antecedents','consequents','support','confidence','lift']])\n",
    "\n"
   ]
  },
  {
   "cell_type": "code",
   "execution_count": 124,
   "id": "7db114ab-da27-4a9b-8b1d-40831621dfc7",
   "metadata": {},
   "outputs": [
    {
     "name": "stdout",
     "output_type": "stream",
     "text": [
      "---- Sports ----\n",
      "Apriori Rules Count: 0\n",
      "FP-Growth Rules Count: 0\n",
      "\n",
      "---- Space ----\n",
      "Apriori Rules Count: 0\n",
      "FP-Growth Rules Count: 0\n",
      "\n"
     ]
    }
   ],
   "source": [
    "def compare_results(name, apriori_rules, fp_rules):\n",
    "    print(f\"---- {name} ----\")\n",
    "    print(f\"Apriori Rules Count: {len(apriori_rules)}\")\n",
    "    print(f\"FP-Growth Rules Count: {len(fp_rules)}\")\n",
    "    print()\n",
    "\n",
    "compare_results(\"Sports\", sports_rules, sports_fp_rules)\n",
    "compare_results(\"Space\", space_rules, space_fp_rules)\n"
   ]
  }
 ],
 "metadata": {
  "kernelspec": {
   "display_name": "Python [conda env:anaconda3]",
   "language": "python",
   "name": "conda-env-anaconda3-py"
  },
  "language_info": {
   "codemirror_mode": {
    "name": "ipython",
    "version": 3
   },
   "file_extension": ".py",
   "mimetype": "text/x-python",
   "name": "python",
   "nbconvert_exporter": "python",
   "pygments_lexer": "ipython3",
   "version": "3.12.7"
  }
 },
 "nbformat": 4,
 "nbformat_minor": 5
}
